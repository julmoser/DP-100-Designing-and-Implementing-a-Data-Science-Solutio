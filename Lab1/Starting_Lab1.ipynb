{
  "cells": [
    {
      "metadata": {},
      "cell_type": "markdown",
      "source": "Copyright (c) Microsoft Corporation. All rights reserved.\n\nLicensed under the MIT License."
    },
    {
      "metadata": {},
      "cell_type": "markdown",
      "source": "## Lab 1:  Train a Model in Azure Notebook"
    },
    {
      "metadata": {},
      "cell_type": "markdown",
      "source": "### You are excited to jump in and traing a model that predicts the type of bicycle a customer will purchase.  Initially, you decide to keep things simple and explore the data and train the model in a local notebook without any Azure resources.  Normally, you would do this on your own machine but you discovered the free Azure Notebooks service and decide to work there. Since the Azure Notebook environment is preconfigured with the Azure ML service SDKs (which can be pretty version specific) and all the popular Python packages you use, working in Azure Notebook will make migrating your model to Azure much easier."
    },
    {
      "metadata": {},
      "cell_type": "markdown",
      "source": "## Introduction\nIn this example you will use a data extract file provided by your team's data engineer.  Fortunately, the extract has all the columns you think are useful to train a model that predicts the bike type a customer will purchase. \n\nIn this notebook you will:\n1. Perform exploratory data analysis.\n2. Create model features.\n3. Train a classification model."
    },
    {
      "metadata": {},
      "cell_type": "markdown",
      "source": "## Let's start by importing the Python modules we will need."
    },
    {
      "metadata": {
        "trusted": false
      },
      "cell_type": "code",
      "source": "%matplotlib inline\n\nfrom matplotlib import pyplot as plt\nimport numpy as np\nimport pandas as pd",
      "execution_count": 1,
      "outputs": []
    },
    {
      "metadata": {},
      "cell_type": "markdown",
      "source": "## Explore the Data\n\n### If you have not uploaded the file, AWBikeSales.csv to the Azure Notebook folder where this notebook is running from, do so now. \n\n### Load the extract file AWBikesSales.csv into a dataframe."
    },
    {
      "metadata": {
        "trusted": false
      },
      "cell_type": "code",
      "source": "import pandas as pd\n\ndf_bikesales = pd.read_csv(r'./AWBikeSales.csv', encoding ='latin1')",
      "execution_count": 2,
      "outputs": []
    },
    {
      "metadata": {
        "trusted": true
      },
      "cell_type": "code",
      "source": "# Let's list the columns...\n\ndf_bikesales.dtypes",
      "execution_count": null,
      "outputs": []
    },
    {
      "metadata": {
        "trusted": true
      },
      "cell_type": "code",
      "source": "# Let's view a few rows of data...\n\ndf_bikesales.head()",
      "execution_count": null,
      "outputs": []
    },
    {
      "metadata": {},
      "cell_type": "markdown",
      "source": "# Exploratory Data Analysis"
    },
    {
      "metadata": {},
      "cell_type": "markdown",
      "source": "## 1)  One column that intrigues you is the customer YearlyIncome as that could affect the type of bike a customer buys.  Create a bar chart showing the count of customers for each value of YearlyIncome.  What does this tell you about Adventure Works customers?  Note: For better display of labels, you may want to divide YearlyIncome by 1000."
    },
    {
      "metadata": {
        "trusted": true
      },
      "cell_type": "code",
      "source": "",
      "execution_count": null,
      "outputs": []
    },
    {
      "metadata": {
        "trusted": true
      },
      "cell_type": "code",
      "source": "",
      "execution_count": null,
      "outputs": []
    },
    {
      "metadata": {},
      "cell_type": "markdown",
      "source": "## 2)  Age seems like an attribute that would affect this model.  List the highest, lowest, median, mean, and quartiles of the Customers's age."
    },
    {
      "metadata": {
        "trusted": true
      },
      "cell_type": "code",
      "source": "",
      "execution_count": null,
      "outputs": []
    },
    {
      "metadata": {},
      "cell_type": "markdown",
      "source": "## 3)  Create a pie chart of the count of customers by Education."
    },
    {
      "metadata": {
        "trusted": true
      },
      "cell_type": "code",
      "source": "",
      "execution_count": null,
      "outputs": []
    },
    {
      "metadata": {},
      "cell_type": "markdown",
      "source": "## Where's the Bike Type?\n\n### You notice that there is no Bike Type column.  Fortunately, the ModelName has the bike type as the first word in the name followed by a dash.  You decide to extract this and put it in a new column named BikeType, i.e. Touring, Road, Mountain.  This is what the model will be trained to predict.  Use the cell below to extract the Bike Type to a new column named BikeType."
    },
    {
      "metadata": {
        "trusted": true
      },
      "cell_type": "code",
      "source": "",
      "execution_count": null,
      "outputs": []
    },
    {
      "metadata": {},
      "cell_type": "markdown",
      "source": "### Now do a count by BikeType to see how it breaks out."
    },
    {
      "metadata": {
        "trusted": true
      },
      "cell_type": "code",
      "source": "",
      "execution_count": null,
      "outputs": []
    },
    {
      "metadata": {},
      "cell_type": "markdown",
      "source": "## Feature Engineering:\n\n### Looking at the data, some columns seem like they would be more useful, if they were transformed.  \n\n### > For example, the number of children at home seems less important than if there are any children at home.  \n### > Individual ages seems less relavant than age ranges like under 18 and over 60.  \n### > YearlyIncome is more useful in ranges like low, medium, high.  \n"
    },
    {
      "metadata": {},
      "cell_type": "markdown",
      "source": "# Add columns that transform the data as follows. \n\n### - Convert ChildrentAtHome from continuous value to boolean\n### - Convert Age to Age Bands making it a categorical value\n### - Convert YearlyIncome into Income Bands making it a categorical value"
    },
    {
      "metadata": {},
      "cell_type": "markdown",
      "source": "### In the cell below, convert Children at home to 'yes' if it is greater than zero, otherwise set it to 'no'."
    },
    {
      "metadata": {
        "trusted": true
      },
      "cell_type": "code",
      "source": "",
      "execution_count": null,
      "outputs": []
    },
    {
      "metadata": {},
      "cell_type": "markdown",
      "source": "### In the cell below, create a column AgeBand that assigns a string value based on value as follows:\n\n- '0-18'\n- '19-29'\n- '30-39'\n- '40-49'\n- '50-59'\n- '60+'"
    },
    {
      "metadata": {
        "trusted": true
      },
      "cell_type": "code",
      "source": "",
      "execution_count": null,
      "outputs": []
    },
    {
      "metadata": {},
      "cell_type": "markdown",
      "source": "#### In the cell below, create a column IncomeBand that assigns a string value based on value as follows:\n\n- '0-49k'\n- '50-99k'\n- '100-149k'\n- '150-199k'\n- '200-299k'\n- '300+'"
    },
    {
      "metadata": {
        "trusted": true
      },
      "cell_type": "code",
      "source": "",
      "execution_count": null,
      "outputs": []
    },
    {
      "metadata": {},
      "cell_type": "markdown",
      "source": "## All of our input features are really categories and need to be converted to categorical variables before they can be used in model training.  Categorical variables are number that represent a category.  Create a new column that is the source column name suffixed with Cat for the columns below:\n\nExample:  BikeTypeCat will hold the categorical value of BikeType.\n\n- BikeType\n- AgeBand\n- IncomeBand\n- MaritalStatus\n- Gender\n- ChildrenAtHome\n- CountryRegionCode\n- HouseOwnerFlag\n- Education\n- Occupation\n- CommuteDistance"
    },
    {
      "metadata": {},
      "cell_type": "markdown",
      "source": "## Convert categorical variables..."
    },
    {
      "metadata": {
        "trusted": false
      },
      "cell_type": "code",
      "source": "",
      "execution_count": 9,
      "outputs": []
    },
    {
      "metadata": {
        "trusted": true
      },
      "cell_type": "code",
      "source": "",
      "execution_count": null,
      "outputs": []
    },
    {
      "metadata": {},
      "cell_type": "markdown",
      "source": "# Create BikeType dictionary to translate our predicted values...\n\n### A problem with using categorical values is that you can't tell what the predicted result is.  Run the code below to create a Python dictionary to be used later to translated predicted bike type values.  There are a number of ways to do this but to make this a bit easier, the code is done for you.\n\n### Note:  Pandas has a module called pandassql that let's us use SQL with dataframes.  You may find some queries easier using SQL."
    },
    {
      "metadata": {
        "trusted": false
      },
      "cell_type": "code",
      "source": "from pandasql import *\n\npysqldf = lambda q: sqldf(q, globals())\n\ndf_types = sqldf('select distinct BikeType, BikeTypeCat from df_bikesales order by BikeTypeCat')\ndf_types",
      "execution_count": 12,
      "outputs": [
        {
          "data": {
            "text/html": "<div>\n<style scoped>\n    .dataframe tbody tr th:only-of-type {\n        vertical-align: middle;\n    }\n\n    .dataframe tbody tr th {\n        vertical-align: top;\n    }\n\n    .dataframe thead th {\n        text-align: right;\n    }\n</style>\n<table border=\"1\" class=\"dataframe\">\n  <thead>\n    <tr style=\"text-align: right;\">\n      <th></th>\n      <th>BikeType</th>\n      <th>BikeTypeCat</th>\n    </tr>\n  </thead>\n  <tbody>\n    <tr>\n      <th>0</th>\n      <td>Mountain</td>\n      <td>0</td>\n    </tr>\n    <tr>\n      <th>1</th>\n      <td>Road</td>\n      <td>1</td>\n    </tr>\n    <tr>\n      <th>2</th>\n      <td>Touring</td>\n      <td>2</td>\n    </tr>\n  </tbody>\n</table>\n</div>",
            "text/plain": "   BikeType  BikeTypeCat\n0  Mountain            0\n1      Road            1\n2   Touring            2"
          },
          "execution_count": 12,
          "metadata": {},
          "output_type": "execute_result"
        }
      ]
    },
    {
      "metadata": {
        "trusted": false
      },
      "cell_type": "code",
      "source": "typedict = dict(zip(df_types.BikeTypeCat, df_types.BikeType))\ntypedict",
      "execution_count": 13,
      "outputs": [
        {
          "data": {
            "text/plain": "{0: 'Mountain', 1: 'Road', 2: 'Touring'}"
          },
          "execution_count": 13,
          "metadata": {},
          "output_type": "execute_result"
        }
      ]
    },
    {
      "metadata": {},
      "cell_type": "markdown",
      "source": "# Extract the features to a new dataframe and display a few rows to confirm it worked.  Call the new features dataframe df_features."
    },
    {
      "metadata": {
        "trusted": false
      },
      "cell_type": "code",
      "source": "",
      "execution_count": 14,
      "outputs": []
    },
    {
      "metadata": {
        "trusted": true
      },
      "cell_type": "code",
      "source": "",
      "execution_count": null,
      "outputs": []
    },
    {
      "metadata": {},
      "cell_type": "markdown",
      "source": "# The scikit-learn models only support numpy arrays, not dataframes so we need to convert our dataframe to a numpy array.  Fortunately, the pandas dataframe values method will do this for us. "
    },
    {
      "metadata": {
        "trusted": false
      },
      "cell_type": "code",
      "source": "# Exampls of using the values method...\n\ndf_features.values",
      "execution_count": 60,
      "outputs": [
        {
          "data": {
            "text/plain": "array([[1, 5, 1, ..., 1, 1, 0],\n       [0, 3, 0, ..., 3, 0, 2],\n       [0, 5, 0, ..., 5, 1, 2],\n       ...,\n       [2, 3, 2, ..., 0, 1, 4],\n       [1, 2, 0, ..., 0, 1, 3],\n       [1, 4, 0, ..., 0, 1, 4]], dtype=int8)"
          },
          "execution_count": 60,
          "metadata": {},
          "output_type": "execute_result"
        }
      ]
    },
    {
      "metadata": {},
      "cell_type": "markdown",
      "source": "# Split the data..."
    },
    {
      "metadata": {
        "trusted": true
      },
      "cell_type": "code",
      "source": "",
      "execution_count": null,
      "outputs": []
    },
    {
      "metadata": {},
      "cell_type": "markdown",
      "source": "### Extract the response variable..."
    },
    {
      "metadata": {
        "trusted": true
      },
      "cell_type": "code",
      "source": "",
      "execution_count": null,
      "outputs": []
    },
    {
      "metadata": {
        "trusted": true
      },
      "cell_type": "code",
      "source": "",
      "execution_count": null,
      "outputs": []
    },
    {
      "metadata": {
        "trusted": true
      },
      "cell_type": "code",
      "source": "",
      "execution_count": null,
      "outputs": []
    },
    {
      "metadata": {},
      "cell_type": "markdown",
      "source": "### Extract the feature columns..."
    },
    {
      "metadata": {
        "trusted": true
      },
      "cell_type": "code",
      "source": "",
      "execution_count": null,
      "outputs": []
    },
    {
      "metadata": {
        "trusted": true
      },
      "cell_type": "code",
      "source": "",
      "execution_count": null,
      "outputs": []
    },
    {
      "metadata": {},
      "cell_type": "markdown",
      "source": "# Train the model...\n\n### Goal:  We want to train a model to predict the type of bicylce a potential customer would purchase based on customer data we have for non bike purchases.  This is a classification problem with three possible outcomes:  Road, Mountain, or, Touring.  \n\n### Use the RandomForestClassifier from the sklearn module to train our model. "
    },
    {
      "metadata": {},
      "cell_type": "markdown",
      "source": "## Import the required libraries below.  "
    },
    {
      "metadata": {
        "trusted": false
      },
      "cell_type": "code",
      "source": "#Importing Libraries\nimport numpy as np\nimport pandas as pd\nfrom sklearn.model_selection import train_test_split\nfrom sklearn.preprocessing import StandardScaler\nfrom sklearn.ensemble import RandomForestClassifier\nfrom sklearn.metrics import confusion_matrix\nfrom sklearn.externals import joblib\nprint('Libraries Imported')",
      "execution_count": 96,
      "outputs": [
        {
          "name": "stdout",
          "output_type": "stream",
          "text": "Libraries Imported\n"
        }
      ]
    },
    {
      "metadata": {},
      "cell_type": "markdown",
      "source": "## Enter your model training code below. "
    },
    {
      "metadata": {
        "trusted": true
      },
      "cell_type": "code",
      "source": "",
      "execution_count": null,
      "outputs": []
    },
    {
      "metadata": {},
      "cell_type": "markdown",
      "source": "# About model performance...\n\n### Our goal is to learn how touse Azure Machine Learning service and the performance of our model does not matter towards that end. Don't worry if the model is not predicting very well. Performance can be improved by more experimentation. Also, Azure Machine Learning service AutoML, which we will see later, can tune the mode for you."
    },
    {
      "metadata": {},
      "cell_type": "markdown",
      "source": "## Predict outcomes using the test data and and display the confusion matrix.  Ideally, the model should predict well but don't worry if it does not. You can use the cell below and insert new ones as you like."
    },
    {
      "metadata": {
        "trusted": false
      },
      "cell_type": "code",
      "source": "",
      "execution_count": null,
      "outputs": []
    },
    {
      "metadata": {},
      "cell_type": "markdown",
      "source": "# Save the feature set data from future labs."
    },
    {
      "metadata": {
        "trusted": false
      },
      "cell_type": "code",
      "source": "import pandas as pd\n\ndf_features.to_csv(r'./BikeModelFeatures.csv', sep=',', index=False)",
      "execution_count": 17,
      "outputs": []
    },
    {
      "metadata": {},
      "cell_type": "markdown",
      "source": "## Save the typedict dictionary values so we can translate future model predictions to the string value."
    },
    {
      "metadata": {
        "trusted": false
      },
      "cell_type": "code",
      "source": "import pickle\n\nf = open(\"typedict.pkl\",\"wb\")\npickle.dump(typedict,f)\nf.close()",
      "execution_count": 120,
      "outputs": []
    },
    {
      "metadata": {},
      "cell_type": "markdown",
      "source": "## Save the trained model for later..."
    },
    {
      "metadata": {
        "trusted": false
      },
      "cell_type": "code",
      "source": "joblib.dump(classifier, 'biketypeclassifier.pkl') ",
      "execution_count": 121,
      "outputs": [
        {
          "data": {
            "text/plain": "['biketypeclassifier.pkl']"
          },
          "execution_count": 121,
          "metadata": {},
          "output_type": "execute_result"
        }
      ]
    }
  ],
  "metadata": {
    "authors": [
      {
        "name": "savitam"
      }
    ],
    "kernelspec": {
      "name": "python3",
      "display_name": "Python 3",
      "language": "python"
    },
    "language_info": {
      "mimetype": "text/x-python",
      "nbconvert_exporter": "python",
      "name": "python",
      "pygments_lexer": "ipython3",
      "version": "3.5.4",
      "file_extension": ".py",
      "codemirror_mode": {
        "version": 3,
        "name": "ipython"
      }
    }
  },
  "nbformat": 4,
  "nbformat_minor": 2
}
