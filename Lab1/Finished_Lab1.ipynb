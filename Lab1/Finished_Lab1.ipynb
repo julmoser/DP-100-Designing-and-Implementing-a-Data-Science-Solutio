{
 "cells": [
  {
   "cell_type": "markdown",
   "metadata": {},
   "source": [
    "Copyright (c) Microsoft Corporation. All rights reserved.\n",
    "\n",
    "Licensed under the MIT License."
   ]
  },
  {
   "cell_type": "markdown",
   "metadata": {},
   "source": [
    "## Lab 1:  Train a Model in Azure Notebook"
   ]
  },
  {
   "cell_type": "markdown",
   "metadata": {},
   "source": [
    "### You are excited to jump in and traing a model that predicts the type of bicycle a customer will purchase.  Initially, you decide to keep things simple and explore the data and train the model in a local notebook without any Azure resources.  Normally, you would do this on your own machine but you discovered the free Azure Notebooks service and decide to work there. Since the Azure Notebook environment is preconfigured with the Azure ML service SDKs (which can be pretty version specific) and all the popular Python packages you use, working in Azure Notebook will make migrating your model to Azure much easier."
   ]
  },
  {
   "cell_type": "markdown",
   "metadata": {},
   "source": [
    "## Introduction\n",
    "In this example you will use a data extract file provided by your team's data engineer.  Fortunately, the extract has all the columns you think are useful to train a model that predicts the bike type a customer will purchase. \n",
    "\n",
    "In this notebook you will:\n",
    "1. Perform exploratory data analysis.\n",
    "2. Create model features.\n",
    "3. Train a classification model."
   ]
  },
  {
   "cell_type": "markdown",
   "metadata": {},
   "source": [
    "## Let's start by importing the Python modules we will need."
   ]
  },
  {
   "cell_type": "code",
   "execution_count": 1,
   "metadata": {},
   "outputs": [],
   "source": [
    "%matplotlib inline\n",
    "\n",
    "from matplotlib import pyplot as plt\n",
    "import numpy as np\n",
    "import pandas as pd"
   ]
  },
  {
   "cell_type": "markdown",
   "metadata": {},
   "source": [
    "## Explore the Data\n",
    "\n",
    "### If you have not uploaded the file, AWBikeSales.csv to the Azure Notebook folder where this notebook is running from, do so now. \n",
    "\n",
    "### Load the extract file AWBikesSales.csv into a dataframe."
   ]
  },
  {
   "cell_type": "code",
   "execution_count": 14,
   "metadata": {},
   "outputs": [],
   "source": [
    "import pandas as pd\n",
    "\n",
    "df_bikesales = pd.read_csv(r'./AWBikeSales.csv', encoding ='latin1')"
   ]
  },
  {
   "cell_type": "code",
   "execution_count": 15,
   "metadata": {},
   "outputs": [
    {
     "data": {
      "text/plain": [
       "BirthDate                 object\n",
       "Age                        int64\n",
       "MaritalStatus             object\n",
       "Gender                    object\n",
       "YearlyIncome               int64\n",
       "TotalChildren              int64\n",
       "NumberChildrenAtHome       int64\n",
       "Education                 object\n",
       "Occupation                object\n",
       "HouseOwnerFlag             int64\n",
       "NumberCarsOwned            int64\n",
       "YearFirstPurchase          int64\n",
       "CommuteDistance           object\n",
       "StateProvinceCode         object\n",
       "StateProvinceName         object\n",
       "CountryRegionCode         object\n",
       "RegionName                object\n",
       "SalesTerritoryKey          int64\n",
       "CustomerKey                int64\n",
       "ProductCategoryKey         int64\n",
       "ProductCategory           object\n",
       "ProductSubcategoryKey      int64\n",
       "ProductSubcategoryName    object\n",
       "ProductKey                 int64\n",
       "ModelName                 object\n",
       "dtype: object"
      ]
     },
     "execution_count": 15,
     "metadata": {},
     "output_type": "execute_result"
    }
   ],
   "source": [
    "# Let's list the columns...\n",
    "\n",
    "df_bikesales.dtypes"
   ]
  },
  {
   "cell_type": "code",
   "execution_count": 18,
   "metadata": {},
   "outputs": [
    {
     "data": {
      "text/html": [
       "<div>\n",
       "<style scoped>\n",
       "    .dataframe tbody tr th:only-of-type {\n",
       "        vertical-align: middle;\n",
       "    }\n",
       "\n",
       "    .dataframe tbody tr th {\n",
       "        vertical-align: top;\n",
       "    }\n",
       "\n",
       "    .dataframe thead th {\n",
       "        text-align: right;\n",
       "    }\n",
       "</style>\n",
       "<table border=\"1\" class=\"dataframe\">\n",
       "  <thead>\n",
       "    <tr style=\"text-align: right;\">\n",
       "      <th></th>\n",
       "      <th>BirthDate</th>\n",
       "      <th>Age</th>\n",
       "      <th>MaritalStatus</th>\n",
       "      <th>Gender</th>\n",
       "      <th>YearlyIncome</th>\n",
       "      <th>TotalChildren</th>\n",
       "      <th>NumberChildrenAtHome</th>\n",
       "      <th>Education</th>\n",
       "      <th>Occupation</th>\n",
       "      <th>HouseOwnerFlag</th>\n",
       "      <th>...</th>\n",
       "      <th>CountryRegionCode</th>\n",
       "      <th>RegionName</th>\n",
       "      <th>SalesTerritoryKey</th>\n",
       "      <th>CustomerKey</th>\n",
       "      <th>ProductCategoryKey</th>\n",
       "      <th>ProductCategory</th>\n",
       "      <th>ProductSubcategoryKey</th>\n",
       "      <th>ProductSubcategoryName</th>\n",
       "      <th>ProductKey</th>\n",
       "      <th>ModelName</th>\n",
       "    </tr>\n",
       "  </thead>\n",
       "  <tbody>\n",
       "    <tr>\n",
       "      <th>0</th>\n",
       "      <td>2/19/1952</td>\n",
       "      <td>67</td>\n",
       "      <td>S</td>\n",
       "      <td>M</td>\n",
       "      <td>70000</td>\n",
       "      <td>5</td>\n",
       "      <td>0</td>\n",
       "      <td>Bachelors</td>\n",
       "      <td>Management</td>\n",
       "      <td>1</td>\n",
       "      <td>...</td>\n",
       "      <td>CA</td>\n",
       "      <td>Canada</td>\n",
       "      <td>6</td>\n",
       "      <td>21768</td>\n",
       "      <td>1</td>\n",
       "      <td>Bikes</td>\n",
       "      <td>2</td>\n",
       "      <td>Road Bikes</td>\n",
       "      <td>310</td>\n",
       "      <td>Road-150</td>\n",
       "    </tr>\n",
       "    <tr>\n",
       "      <th>1</th>\n",
       "      <td>6/17/1970</td>\n",
       "      <td>48</td>\n",
       "      <td>S</td>\n",
       "      <td>F</td>\n",
       "      <td>20000</td>\n",
       "      <td>3</td>\n",
       "      <td>3</td>\n",
       "      <td>High School</td>\n",
       "      <td>Manual</td>\n",
       "      <td>0</td>\n",
       "      <td>...</td>\n",
       "      <td>FR</td>\n",
       "      <td>France</td>\n",
       "      <td>7</td>\n",
       "      <td>28389</td>\n",
       "      <td>1</td>\n",
       "      <td>Bikes</td>\n",
       "      <td>1</td>\n",
       "      <td>Mountain Bikes</td>\n",
       "      <td>346</td>\n",
       "      <td>Mountain-100</td>\n",
       "    </tr>\n",
       "    <tr>\n",
       "      <th>2</th>\n",
       "      <td>6/1/1952</td>\n",
       "      <td>66</td>\n",
       "      <td>S</td>\n",
       "      <td>F</td>\n",
       "      <td>40000</td>\n",
       "      <td>5</td>\n",
       "      <td>0</td>\n",
       "      <td>High School</td>\n",
       "      <td>Professional</td>\n",
       "      <td>1</td>\n",
       "      <td>...</td>\n",
       "      <td>US</td>\n",
       "      <td>United States</td>\n",
       "      <td>1</td>\n",
       "      <td>25863</td>\n",
       "      <td>1</td>\n",
       "      <td>Bikes</td>\n",
       "      <td>1</td>\n",
       "      <td>Mountain Bikes</td>\n",
       "      <td>346</td>\n",
       "      <td>Mountain-100</td>\n",
       "    </tr>\n",
       "    <tr>\n",
       "      <th>3</th>\n",
       "      <td>11/10/1943</td>\n",
       "      <td>75</td>\n",
       "      <td>M</td>\n",
       "      <td>M</td>\n",
       "      <td>80000</td>\n",
       "      <td>4</td>\n",
       "      <td>0</td>\n",
       "      <td>Graduate Degree</td>\n",
       "      <td>Management</td>\n",
       "      <td>1</td>\n",
       "      <td>...</td>\n",
       "      <td>US</td>\n",
       "      <td>United States</td>\n",
       "      <td>4</td>\n",
       "      <td>14501</td>\n",
       "      <td>1</td>\n",
       "      <td>Bikes</td>\n",
       "      <td>2</td>\n",
       "      <td>Road Bikes</td>\n",
       "      <td>336</td>\n",
       "      <td>Road-650</td>\n",
       "    </tr>\n",
       "    <tr>\n",
       "      <th>4</th>\n",
       "      <td>8/14/1973</td>\n",
       "      <td>45</td>\n",
       "      <td>S</td>\n",
       "      <td>F</td>\n",
       "      <td>70000</td>\n",
       "      <td>0</td>\n",
       "      <td>0</td>\n",
       "      <td>Bachelors</td>\n",
       "      <td>Professional</td>\n",
       "      <td>0</td>\n",
       "      <td>...</td>\n",
       "      <td>AU</td>\n",
       "      <td>Australia</td>\n",
       "      <td>9</td>\n",
       "      <td>11003</td>\n",
       "      <td>1</td>\n",
       "      <td>Bikes</td>\n",
       "      <td>1</td>\n",
       "      <td>Mountain Bikes</td>\n",
       "      <td>346</td>\n",
       "      <td>Mountain-100</td>\n",
       "    </tr>\n",
       "  </tbody>\n",
       "</table>\n",
       "<p>5 rows × 25 columns</p>\n",
       "</div>"
      ],
      "text/plain": [
       "    BirthDate  Age MaritalStatus Gender  YearlyIncome  TotalChildren  \\\n",
       "0   2/19/1952   67             S      M         70000              5   \n",
       "1   6/17/1970   48             S      F         20000              3   \n",
       "2    6/1/1952   66             S      F         40000              5   \n",
       "3  11/10/1943   75             M      M         80000              4   \n",
       "4   8/14/1973   45             S      F         70000              0   \n",
       "\n",
       "   NumberChildrenAtHome        Education    Occupation  HouseOwnerFlag  \\\n",
       "0                     0        Bachelors    Management               1   \n",
       "1                     3      High School        Manual               0   \n",
       "2                     0      High School  Professional               1   \n",
       "3                     0  Graduate Degree    Management               1   \n",
       "4                     0        Bachelors  Professional               0   \n",
       "\n",
       "       ...       CountryRegionCode     RegionName SalesTerritoryKey  \\\n",
       "0      ...                      CA         Canada                 6   \n",
       "1      ...                      FR         France                 7   \n",
       "2      ...                      US  United States                 1   \n",
       "3      ...                      US  United States                 4   \n",
       "4      ...                      AU      Australia                 9   \n",
       "\n",
       "  CustomerKey ProductCategoryKey ProductCategory ProductSubcategoryKey  \\\n",
       "0       21768                  1           Bikes                     2   \n",
       "1       28389                  1           Bikes                     1   \n",
       "2       25863                  1           Bikes                     1   \n",
       "3       14501                  1           Bikes                     2   \n",
       "4       11003                  1           Bikes                     1   \n",
       "\n",
       "   ProductSubcategoryName  ProductKey     ModelName  \n",
       "0              Road Bikes         310      Road-150  \n",
       "1          Mountain Bikes         346  Mountain-100  \n",
       "2          Mountain Bikes         346  Mountain-100  \n",
       "3              Road Bikes         336      Road-650  \n",
       "4          Mountain Bikes         346  Mountain-100  \n",
       "\n",
       "[5 rows x 25 columns]"
      ]
     },
     "execution_count": 18,
     "metadata": {},
     "output_type": "execute_result"
    }
   ],
   "source": [
    "# Let's view a few rows of data...\n",
    "\n",
    "df_bikesales.head()"
   ]
  },
  {
   "cell_type": "markdown",
   "metadata": {},
   "source": [
    "# Exploratory Data Analysis"
   ]
  },
  {
   "cell_type": "markdown",
   "metadata": {},
   "source": [
    "## 1)  One column that intrigues you is the customer YearlyIncome as that could affect the type of bike a customer buys.  Create a bar chart showing the count of customers for each value of YearlyIncome.  What does this tell you about Adventure Works customers?"
   ]
  },
  {
   "cell_type": "code",
   "execution_count": 28,
   "metadata": {},
   "outputs": [
    {
     "data": {
      "text/plain": [
       "0    70\n",
       "1    20\n",
       "2    40\n",
       "3    80\n",
       "4    70\n",
       "Name: Salary, dtype: int64"
      ]
     },
     "execution_count": 28,
     "metadata": {},
     "output_type": "execute_result"
    }
   ],
   "source": [
    "df_bikesales['Salary'] = (df_bikesales['YearlyIncome']/1000).astype('int')\n",
    "df_bikesales['Salary'].head()"
   ]
  },
  {
   "cell_type": "code",
   "execution_count": 30,
   "metadata": {},
   "outputs": [
    {
     "data": {
      "text/plain": [
       "<matplotlib.axes._subplots.AxesSubplot at 0x7fbb06277da0>"
      ]
     },
     "execution_count": 30,
     "metadata": {},
     "output_type": "execute_result"
    },
    {
     "data": {
      "image/png": "[encoded data removed]",
      "text/plain": [
       "<Figure size 432x288 with 1 Axes>"
      ]
     },
     "metadata": {
      "needs_background": "light"
     },
     "output_type": "display_data"
    }
   ],
   "source": [
    "df_bikesales.groupby(['Salary']).count()[['BirthDate']].plot.bar(rot=0)"
   ]
  },
  {
   "cell_type": "markdown",
   "metadata": {},
   "source": [
    "## 2)  Age seems like an attribute that would affect this model.  List the highest, lowest, median, mean, and quartiles of the Customers's age."
   ]
  },
  {
   "cell_type": "code",
   "execution_count": 32,
   "metadata": {},
   "outputs": [
    {
     "data": {
      "text/plain": [
       "count    15205.000000\n",
       "mean        48.488918\n",
       "std         10.351013\n",
       "min         32.000000\n",
       "25%         40.000000\n",
       "50%         46.000000\n",
       "75%         55.000000\n",
       "max         91.000000\n",
       "Name: Age, dtype: float64"
      ]
     },
     "execution_count": 32,
     "metadata": {},
     "output_type": "execute_result"
    }
   ],
   "source": [
    "df_bikesales['Age'].describe()"
   ]
  },
  {
   "cell_type": "markdown",
   "metadata": {},
   "source": [
    "## 3)  Create a pie chart of the count of customers by Education."
   ]
  },
  {
   "cell_type": "code",
   "execution_count": 40,
   "metadata": {},
   "outputs": [
    {
     "data": {
      "text/plain": [
       "<matplotlib.axes._subplots.AxesSubplot at 0x7fbb05f606a0>"
      ]
     },
     "execution_count": 40,
     "metadata": {},
     "output_type": "execute_result"
    },
    {
     "data": {
      "image/png": "[encoded data removed]",
      "text/plain": [
       "<Figure size 360x360 with 1 Axes>"
      ]
     },
     "metadata": {},
     "output_type": "display_data"
    }
   ],
   "source": [
    "df_education = df_bikesales.groupby(['Education']).count()[['BirthDate']]\n",
    "df_education.head()\n",
    "df_education.plot.pie(y='BirthDate', figsize=(5, 5))\n",
    "# plot = df.plot.pie(y='mass', figsize=(5, 5))"
   ]
  },
  {
   "cell_type": "markdown",
   "metadata": {},
   "source": [
    "## Where's the Bike Type?\n",
    "\n",
    "### You notice that there is no Bike Type column.  Fortunately, the ModelName has the bike type as the first word in the name followed by a dash.  You decide to extract this and put it in a new column named BikeType, i.e. Touring, Road, Mountain.  This is what the model will be trained to predict."
   ]
  },
  {
   "cell_type": "code",
   "execution_count": 41,
   "metadata": {},
   "outputs": [],
   "source": [
    "df_bikesales[\"BikeType\"] = df_bikesales[\"ModelName\"].str.split(\"-\", n = 1, expand = True).loc[:,0]"
   ]
  },
  {
   "cell_type": "markdown",
   "metadata": {},
   "source": [
    "### Now do a count by BikeType to see how it breaks out."
   ]
  },
  {
   "cell_type": "code",
   "execution_count": 47,
   "metadata": {},
   "outputs": [
    {
     "data": {
      "text/html": [
       "<div>\n",
       "<style scoped>\n",
       "    .dataframe tbody tr th:only-of-type {\n",
       "        vertical-align: middle;\n",
       "    }\n",
       "\n",
       "    .dataframe tbody tr th {\n",
       "        vertical-align: top;\n",
       "    }\n",
       "\n",
       "    .dataframe thead th {\n",
       "        text-align: right;\n",
       "    }\n",
       "</style>\n",
       "<table border=\"1\" class=\"dataframe\">\n",
       "  <thead>\n",
       "    <tr style=\"text-align: right;\">\n",
       "      <th></th>\n",
       "      <th>Count</th>\n",
       "    </tr>\n",
       "    <tr>\n",
       "      <th>BikeType</th>\n",
       "      <th></th>\n",
       "    </tr>\n",
       "  </thead>\n",
       "  <tbody>\n",
       "    <tr>\n",
       "      <th>Mountain</th>\n",
       "      <td>4970</td>\n",
       "    </tr>\n",
       "    <tr>\n",
       "      <th>Road</th>\n",
       "      <td>8068</td>\n",
       "    </tr>\n",
       "    <tr>\n",
       "      <th>Touring</th>\n",
       "      <td>2167</td>\n",
       "    </tr>\n",
       "  </tbody>\n",
       "</table>\n",
       "</div>"
      ],
      "text/plain": [
       "          Count\n",
       "BikeType       \n",
       "Mountain   4970\n",
       "Road       8068\n",
       "Touring    2167"
      ]
     },
     "execution_count": 47,
     "metadata": {},
     "output_type": "execute_result"
    }
   ],
   "source": [
    "df_typecount = df_bikesales.groupby(['BikeType']).count()[['BirthDate']]\n",
    "df_typecount.rename(columns={'BirthDate': 'Count'}, inplace=True)\n",
    "df_typecount"
   ]
  },
  {
   "cell_type": "markdown",
   "metadata": {},
   "source": [
    "## Feature Engineering:\n",
    "\n",
    "### Looking at the data, some columns seem like they would be more useful, if they were transformed.  \n",
    "\n",
    "### > For example, the number of children at home seems less important than if there are any children at home.  \n",
    "### > Individual ages seems less relavant than age ranges like under 18 and over 60.  \n",
    "### > YearlyIncome is more useful in ranges like low, medium, high.  \n"
   ]
  },
  {
   "cell_type": "markdown",
   "metadata": {},
   "source": [
    "# Add columns that transform the data as follows. \n",
    "\n",
    "### - Convert ChildrentAtHome from continuous value to boolean\n",
    "### - Convert Age to Age Bands making it a categorical value\n",
    "### - Convert YearlyIncome into Income Bands making it a categorical value"
   ]
  },
  {
   "cell_type": "markdown",
   "metadata": {},
   "source": [
    "### In the cell below, convert Children at home to 'yes' if it is greater than zero, otherwise set it to 'no'."
   ]
  },
  {
   "cell_type": "code",
   "execution_count": 48,
   "metadata": {},
   "outputs": [
    {
     "data": {
      "text/plain": [
       "0     no\n",
       "1    yes\n",
       "2     no\n",
       "3     no\n",
       "4     no\n",
       "Name: ChildrenAtHome, dtype: object"
      ]
     },
     "execution_count": 48,
     "metadata": {},
     "output_type": "execute_result"
    }
   ],
   "source": [
    "import numpy as np\n",
    "\n",
    "df_bikesales['ChildrenAtHome'] = np.where(df_bikesales['NumberChildrenAtHome']>0, 'yes', 'no')\n",
    "df_bikesales['ChildrenAtHome'].head()"
   ]
  },
  {
   "cell_type": "markdown",
   "metadata": {},
   "source": [
    "### In the cell below, create a column AgeBand that assigns a string value based on value as follows:\n",
    "\n",
    "- '0-18'\n",
    "- '19-29'\n",
    "- '30-39'\n",
    "- '40-49'\n",
    "- '50-59'\n",
    "- '60+'"
   ]
  },
  {
   "cell_type": "code",
   "execution_count": 50,
   "metadata": {},
   "outputs": [],
   "source": [
    "df_bikesales['AgeBand'] =  pd.cut(df_bikesales['Age'], [0, 18, 29, 39, 49, 59, 200], labels=['0-18', '19-29', '30-39', '40-49', '50-59', '60+'])"
   ]
  },
  {
   "cell_type": "markdown",
   "metadata": {},
   "source": [
    "#### In the cell below, create a column IncomeBand that assigns a string value based on value as follows:\n",
    "\n",
    "- '0-49k'\n",
    "- '50-99k'\n",
    "- '100-149k'\n",
    "- '150-199k'\n",
    "- '200-299k'\n",
    "- '300+'"
   ]
  },
  {
   "cell_type": "code",
   "execution_count": 51,
   "metadata": {},
   "outputs": [],
   "source": [
    "df_bikesales['IncomeBand'] =  pd.cut(df_bikesales['YearlyIncome'], [0, 49000, 99000, 149000, 199000, 299999, 5000000], labels=['0-49k', '50-99k', '100-149k', '150-199k', '200-299k', '300+'])"
   ]
  },
  {
   "cell_type": "markdown",
   "metadata": {},
   "source": [
    "## All of our input features are really categories and need to be converted to categorical variables before they can be used in model training.  Categorical variables are number that represent a category.  Create a new column that is the source column name suffixed with Cat for the columns below:\n",
    "\n",
    "Example:  BikeTypeCat will hold the categorical value of BikeType.\n",
    "\n",
    "- BikeType\n",
    "- AgeBand\n",
    "- IncomeBand\n",
    "- MaritalStatus\n",
    "- Gender\n",
    "- ChildrenAtHome\n",
    "- CountryRegionCode\n",
    "- HouseOwnerFlag\n",
    "- Education\n",
    "- Occupation\n",
    "- CommuteDistance"
   ]
  },
  {
   "cell_type": "markdown",
   "metadata": {},
   "source": [
    "## Convert categorical variables..."
   ]
  },
  {
   "cell_type": "code",
   "execution_count": 52,
   "metadata": {},
   "outputs": [],
   "source": [
    "#Define columns to be converted\n",
    "CatCol = ['BikeType', 'AgeBand', 'IncomeBand', 'MaritalStatus', 'Gender', 'ChildrenAtHome','CountryRegionCode',\n",
    "                            'HouseOwnerFlag', 'Education', 'Occupation', 'CommuteDistance']\n",
    "\n",
    "#Define suffix\n",
    "Cat = 'Cat'"
   ]
  },
  {
   "cell_type": "code",
   "execution_count": 54,
   "metadata": {},
   "outputs": [],
   "source": [
    "#change object column names to categories and append suffix to column name\n",
    "for col in CatCol:\n",
    "df_bikesales[col + Cat] = df_bikesales[col].astype('category')\n",
 "\n",
    "#Create new column name list with appended suffix to column names\n",
    "CatColSuf = [s + Cat for s in CatCol]\n",
"\n",
    "#create category codes\n",
    "for col in CatColSuf:\n",
    "df_bikesales[col] = df_bikesales[col].cat.codes\n"
   ]
  },
  {
   "cell_type": "code",
   "execution_count": 55,
   "metadata": {},
   "outputs": [],
   "source": [
    "from pandasql import *\n",
    "\n",
    "pysqldf = lambda q: sqldf(q, globals())"
   ]
  },
  {
   "cell_type": "markdown",
   "metadata": {},
   "source": [
    "# Create BikeType dictionary to translate our predicted values...\n",
    "\n",
    "### A problem with using categorical values is that you can't tell what the predicted result is.  Run the code below to create a Python dictionary to be used later to translated predicted bike type values.\n",
    "\n",
    "Note:  Pandas has a module called pandassql that let's us use SQL with dataframes.  You may find some queries easier using SQL."
   ]
  },
  {
   "cell_type": "code",
   "execution_count": 77,
   "metadata": {},
   "outputs": [
    {
     "data": {
      "text/html": [
       "<div>\n",
       "<style scoped>\n",
       "    .dataframe tbody tr th:only-of-type {\n",
       "        vertical-align: middle;\n",
       "    }\n",
       "\n",
       "    .dataframe tbody tr th {\n",
       "        vertical-align: top;\n",
       "    }\n",
       "\n",
       "    .dataframe thead th {\n",
       "        text-align: right;\n",
       "    }\n",
       "</style>\n",
       "<table border=\"1\" class=\"dataframe\">\n",
       "  <thead>\n",
       "    <tr style=\"text-align: right;\">\n",
       "      <th></th>\n",
       "      <th>BikeType</th>\n",
       "      <th>BikeTypeCat</th>\n",
       "    </tr>\n",
       "  </thead>\n",
       "  <tbody>\n",
       "    <tr>\n",
       "      <th>0</th>\n",
       "      <td>Mountain</td>\n",
       "      <td>0</td>\n",
       "    </tr>\n",
       "    <tr>\n",
       "      <th>1</th>\n",
       "      <td>Road</td>\n",
       "      <td>1</td>\n",
       "    </tr>\n",
       "    <tr>\n",
       "      <th>2</th>\n",
       "      <td>Touring</td>\n",
       "      <td>2</td>\n",
       "    </tr>\n",
       "  </tbody>\n",
       "</table>\n",
       "</div>"
      ],
      "text/plain": [
       "   BikeType  BikeTypeCat\n",
       "0  Mountain            0\n",
       "1      Road            1\n",
       "2   Touring            2"
      ]
     },
     "execution_count": 77,
     "metadata": {},
     "output_type": "execute_result"
    }
   ],
   "source": [
    "from pandasql import *\n",
    "\n",
    "pysqldf = lambda q: sqldf(q, globals())\n",
    "\n",
    "df_types = sqldf('select distinct BikeType, BikeTypeCat from df_bikesales order by BikeTypeCat')\n",
    "df_types"
   ]
  },
  {
   "cell_type": "code",
   "execution_count": 78,
   "metadata": {},
   "outputs": [
    {
     "data": {
      "text/plain": [
       "{0: 'Mountain', 1: 'Road', 2: 'Touring'}"
      ]
     },
     "execution_count": 78,
     "metadata": {},
     "output_type": "execute_result"
    }
   ],
   "source": [
    "typedict = dict(zip(df_types.BikeTypeCat, df_types.BikeType))\n",
    "typedict"
   ]
  },
  {
   "cell_type": "markdown",
   "metadata": {},
   "source": [
    "# Extract the features to a new dataframe..."
   ]
  },
  {
   "cell_type": "code",
   "execution_count": 57,
   "metadata": {},
   "outputs": [],
   "source": [
    "df_features = df_bikesales[CatColSuf]\n"
   ]
  },
  {
   "cell_type": "code",
   "execution_count": 58,
   "metadata": {},
   "outputs": [
    {
     "data": {
      "text/html": [
       "<div>\n",
       "<style scoped>\n",
       "    .dataframe tbody tr th:only-of-type {\n",
       "        vertical-align: middle;\n",
       "    }\n",
       "\n",
       "    .dataframe tbody tr th {\n",
       "        vertical-align: top;\n",
       "    }\n",
       "\n",
       "    .dataframe thead th {\n",
       "        text-align: right;\n",
       "    }\n",
       "</style>\n",
       "<table border=\"1\" class=\"dataframe\">\n",
       "  <thead>\n",
       "    <tr style=\"text-align: right;\">\n",
       "      <th></th>\n",
       "      <th>BikeTypeCat</th>\n",
       "      <th>AgeBandCat</th>\n",
       "      <th>IncomeBandCat</th>\n",
       "      <th>MaritalStatusCat</th>\n",
       "      <th>OccupationCat</th>\n",
       "      <th>CommuteDistanceCat</th>\n",
       "      <th>GenderCat</th>\n",
       "      <th>ChildrenAtHomeCat</th>\n",
       "      <th>CountryRegionCodeCat</th>\n",
       "      <th>HouseOwnerFlagCat</th>\n",
       "      <th>EducationCat</th>\n",
       "    </tr>\n",
       "  </thead>\n",
       "  <tbody>\n",
       "    <tr>\n",
       "      <th>0</th>\n",
       "      <td>1</td>\n",
       "      <td>5</td>\n",
       "      <td>1</td>\n",
       "      <td>1</td>\n",
       "      <td>1</td>\n",
       "      <td>2</td>\n",
       "      <td>1</td>\n",
       "      <td>0</td>\n",
       "      <td>1</td>\n",
       "      <td>1</td>\n",
       "      <td>0</td>\n",
       "    </tr>\n",
       "    <tr>\n",
       "      <th>1</th>\n",
       "      <td>0</td>\n",
       "      <td>3</td>\n",
       "      <td>0</td>\n",
       "      <td>1</td>\n",
       "      <td>2</td>\n",
       "      <td>0</td>\n",
       "      <td>0</td>\n",
       "      <td>1</td>\n",
       "      <td>3</td>\n",
       "      <td>0</td>\n",
       "      <td>2</td>\n",
       "    </tr>\n",
       "    <tr>\n",
       "      <th>2</th>\n",
       "      <td>0</td>\n",
       "      <td>5</td>\n",
       "      <td>0</td>\n",
       "      <td>1</td>\n",
       "      <td>3</td>\n",
       "      <td>2</td>\n",
       "      <td>0</td>\n",
       "      <td>0</td>\n",
       "      <td>5</td>\n",
       "      <td>1</td>\n",
       "      <td>2</td>\n",
       "    </tr>\n",
       "    <tr>\n",
       "      <th>3</th>\n",
       "      <td>1</td>\n",
       "      <td>5</td>\n",
       "      <td>1</td>\n",
       "      <td>0</td>\n",
       "      <td>1</td>\n",
       "      <td>1</td>\n",
       "      <td>1</td>\n",
       "      <td>0</td>\n",
       "      <td>5</td>\n",
       "      <td>1</td>\n",
       "      <td>1</td>\n",
       "    </tr>\n",
       "    <tr>\n",
       "      <th>4</th>\n",
       "      <td>0</td>\n",
       "      <td>3</td>\n",
       "      <td>1</td>\n",
       "      <td>1</td>\n",
       "      <td>3</td>\n",
       "      <td>4</td>\n",
       "      <td>0</td>\n",
       "      <td>0</td>\n",
       "      <td>0</td>\n",
       "      <td>0</td>\n",
       "      <td>0</td>\n",
       "    </tr>\n",
       "  </tbody>\n",
       "</table>\n",
       "</div>"
      ],
      "text/plain": [
       "   BikeTypeCat  AgeBandCat  IncomeBandCat  MaritalStatusCat  OccupationCat  \\\n",
       "0            1           5              1                 1              1   \n",
       "1            0           3              0                 1              2   \n",
       "2            0           5              0                 1              3   \n",
       "3            1           5              1                 0              1   \n",
       "4            0           3              1                 1              3   \n",
       "\n",
       "   CommuteDistanceCat  GenderCat  ChildrenAtHomeCat  CountryRegionCodeCat  \\\n",
       "0                   2          1                  0                     1   \n",
       "1                   0          0                  1                     3   \n",
       "2                   2          0                  0                     5   \n",
       "3                   1          1                  0                     5   \n",
       "4                   4          0                  0                     0   \n",
       "\n",
       "   HouseOwnerFlagCat  EducationCat  \n",
       "0                  1             0  \n",
       "1                  0             2  \n",
       "2                  1             2  \n",
       "3                  1             1  \n",
       "4                  0             0  "
      ]
     },
     "execution_count": 58,
     "metadata": {},
     "output_type": "execute_result"
    }
   ],
   "source": [
    "df_features.head()"
   ]
  },
  {
   "cell_type": "code",
   "execution_count": 59,
   "metadata": {},
   "outputs": [
    {
     "data": {
      "text/plain": [
       "BikeTypeCat             int8\n",
       "AgeBandCat              int8\n",
       "IncomeBandCat           int8\n",
       "MaritalStatusCat        int8\n",
       "OccupationCat           int8\n",
       "CommuteDistanceCat      int8\n",
       "GenderCat               int8\n",
       "ChildrenAtHomeCat       int8\n",
       "CountryRegionCodeCat    int8\n",
       "HouseOwnerFlagCat       int8\n",
       "EducationCat            int8\n",
       "dtype: object"
      ]
     },
     "execution_count": 59,
     "metadata": {},
     "output_type": "execute_result"
    }
   ],
   "source": [
    "df_features.dtypes"
   ]
  },
  {
   "cell_type": "markdown",
   "metadata": {},
   "source": [
    "# The scikit-learn models only support numpy arrays, not dataframes so we need to convert our dataframe to a numpy array.  Fortunately, the pandas dataframe values method will do this for us. "
   ]
  },
  {
   "cell_type": "code",
   "execution_count": 60,
   "metadata": {},
   "outputs": [
    {
     "data": {
      "text/plain": [
       "array([[1, 5, 1, ..., 1, 1, 0],\n",
       "       [0, 3, 0, ..., 3, 0, 2],\n",
       "       [0, 5, 0, ..., 5, 1, 2],\n",
       "       ...,\n",
       "       [2, 3, 2, ..., 0, 1, 4],\n",
       "       [1, 2, 0, ..., 0, 1, 3],\n",
       "       [1, 4, 0, ..., 0, 1, 4]], dtype=int8)"
      ]
     },
     "execution_count": 60,
     "metadata": {},
     "output_type": "execute_result"
    }
   ],
   "source": [
    "# Exampls of using the values method...\n",
    "\n",
    "df_features.values"
   ]
  },
  {
   "cell_type": "markdown",
   "metadata": {},
   "source": [
    "# Split the data..."
   ]
  },
  {
   "cell_type": "code",
   "execution_count": 88,
   "metadata": {},
   "outputs": [],
   "source": [
    "from sklearn.model_selection import train_test_split\n",
    "\n",
    "X_train_all , X_test_all = train_test_split(df_features.values,test_size=0.2)       #test_size=0.5(whole_data)"
   ]
  },
  {
   "cell_type": "markdown",
   "metadata": {},
   "source": [
    "### Extract the response variable..."
   ]
  },
  {
   "cell_type": "code",
   "execution_count": 89,
   "metadata": {},
   "outputs": [
    {
     "data": {
      "text/plain": [
       "array([1, 0, 1, ..., 1, 1, 1], dtype=int8)"
      ]
     },
     "execution_count": 89,
     "metadata": {},
     "output_type": "execute_result"
    }
   ],
   "source": [
    "# Column 0 has the value we want to predict, i.e. the model a customer will purchase.\n",
    "X_train_all[:,0]"
   ]
  },
  {
   "cell_type": "code",
   "execution_count": 90,
   "metadata": {},
   "outputs": [
    {
     "data": {
      "text/plain": [
       "array([1, 0, 1, ..., 1, 1, 1], dtype=int8)"
      ]
     },
     "execution_count": 90,
     "metadata": {},
     "output_type": "execute_result"
    }
   ],
   "source": [
    "y_train = X_train_all[:,0]\n",
    "y_train"
   ]
  },
  {
   "cell_type": "code",
   "execution_count": 91,
   "metadata": {},
   "outputs": [
    {
     "data": {
      "text/plain": [
       "array([1, 1, 1, ..., 0, 1, 1], dtype=int8)"
      ]
     },
     "execution_count": 91,
     "metadata": {},
     "output_type": "execute_result"
    }
   ],
   "source": [
    "y_test = X_test_all[:,0]\n",
    "y_test"
   ]
  },
  {
   "cell_type": "code",
   "execution_count": 92,
   "metadata": {},
   "outputs": [
    {
     "data": {
      "text/plain": [
       "array([1, 1, 1, ..., 0, 1, 1], dtype=int8)"
      ]
     },
     "execution_count": 92,
     "metadata": {},
     "output_type": "execute_result"
    }
   ],
   "source": [
    "# Check the BikeType...\n",
    "X_test_all[:,0]"
   ]
  },
  {
   "cell_type": "code",
   "execution_count": 93,
   "metadata": {},
   "outputs": [
    {
     "data": {
      "text/plain": [
       "(12164, 11)"
      ]
     },
     "execution_count": 93,
     "metadata": {},
     "output_type": "execute_result"
    }
   ],
   "source": [
    "X_train_all.shape"
   ]
  },
  {
   "cell_type": "markdown",
   "metadata": {},
   "source": [
    "### Extract the feature columns..."
   ]
  },
  {
   "cell_type": "code",
   "execution_count": 94,
   "metadata": {},
   "outputs": [
    {
     "data": {
      "text/plain": [
       "(12164, 10)"
      ]
     },
     "execution_count": 94,
     "metadata": {},
     "output_type": "execute_result"
    }
   ],
   "source": [
    "X_train = X_train_all[:,1:11]\n",
    "X_train.shape"
   ]
  },
  {
   "cell_type": "code",
   "execution_count": 95,
   "metadata": {},
   "outputs": [
    {
     "data": {
      "text/plain": [
       "array([[5, 0, 0, ..., 0, 0, 3],\n",
       "       [3, 0, 0, ..., 5, 1, 0],\n",
       "       [5, 1, 0, ..., 0, 1, 1],\n",
       "       ...,\n",
       "       [3, 1, 1, ..., 0, 0, 3],\n",
       "       [5, 0, 0, ..., 0, 0, 2],\n",
       "       [3, 0, 1, ..., 2, 1, 3]], dtype=int8)"
      ]
     },
     "execution_count": 95,
     "metadata": {},
     "output_type": "execute_result"
    }
   ],
   "source": [
    "X_test = X_test_all[:,1:11]\n",
    "X_test"
   ]
  },
  {
   "cell_type": "markdown",
   "metadata": {},
   "source": [
    "# Train the model..."
   ]
  },
  {
   "cell_type": "code",
   "execution_count": 96,
   "metadata": {},
   "outputs": [
    {
     "name": "stdout",
     "output_type": "stream",
     "text": [
      "Libraries Imported\n"
     ]
    }
   ],
   "source": [
    "#Importing Libraries\n",
    "import numpy as np\n",
    "import pandas as pd\n",
    "from sklearn.model_selection import train_test_split\n",
    "from sklearn.preprocessing import StandardScaler\n",
    "from sklearn.ensemble import RandomForestClassifier\n",
    "from sklearn.metrics import confusion_matrix\n",
    "from sklearn.externals import joblib\n",
    "print('Libraries Imported')"
   ]
  },
  {
   "cell_type": "code",
   "execution_count": 97,
   "metadata": {},
   "outputs": [
    {
     "data": {
      "text/plain": [
       "numpy.ndarray"
      ]
     },
     "execution_count": 97,
     "metadata": {},
     "output_type": "execute_result"
    }
   ],
   "source": [
    "# Confirm we have a numpy array...\n",
    "type(X_train)"
   ]
  },
  {
   "cell_type": "code",
   "execution_count": 98,
   "metadata": {},
   "outputs": [
    {
     "data": {
      "text/plain": [
       "array([[3, 0, 0, ..., 2, 0, 0],\n",
       "       [5, 1, 0, ..., 1, 1, 1],\n",
       "       [2, 0, 1, ..., 4, 0, 3],\n",
       "       ...,\n",
       "       [5, 0, 0, ..., 0, 1, 0],\n",
       "       [2, 0, 0, ..., 5, 0, 3],\n",
       "       [5, 0, 0, ..., 1, 1, 2]], dtype=int8)"
      ]
     },
     "execution_count": 98,
     "metadata": {},
     "output_type": "execute_result"
    }
   ],
   "source": [
    "# Check the input features array...\n",
    "X_train"
   ]
  },
  {
   "cell_type": "code",
   "execution_count": 99,
   "metadata": {},
   "outputs": [
    {
     "data": {
      "text/plain": [
       "array([1, 0, 1, ..., 1, 1, 1], dtype=int8)"
      ]
     },
     "execution_count": 99,
     "metadata": {},
     "output_type": "execute_result"
    }
   ],
   "source": [
    "y_train"
   ]
  },
  {
   "cell_type": "code",
   "execution_count": 108,
   "metadata": {},
   "outputs": [
    {
     "name": "stdout",
     "output_type": "stream",
     "text": [
      "Done\n"
     ]
    }
   ],
   "source": [
    "# for predicting bike type...\n",
    "\n",
    "classifier = RandomForestClassifier(n_estimators = 800, criterion = 'entropy', random_state = 42, max_depth=12)\n",
    "classifier.fit(X_train, y_train)\n",
    "print('Done')"
   ]
  },
  {
   "cell_type": "markdown",
   "metadata": {},
   "source": [
    "## About model performance...\n",
    "\n",
    "### Our goal is to learn how touse Azure Machine Learning service and the performance of our model does not matter towards that end.  Don't worry if the model is not predicting very well.  Performance can be improved by more experimentation.  Also, Azure Machine Learning service AutoML, which we will see later, can tune the mode for you."
   ]
  },
  {
   "cell_type": "markdown",
   "metadata": {},
   "source": [
    "## As a sanity check, we will predict on the training data and so the confusion matrix."
   ]
  },
  {
   "cell_type": "code",
   "execution_count": 109,
   "metadata": {},
   "outputs": [
    {
     "data": {
      "text/plain": [
       "array([1, 0, 1, ..., 1, 1, 1], dtype=int8)"
      ]
     },
     "execution_count": 109,
     "metadata": {},
     "output_type": "execute_result"
    }
   ],
   "source": [
    "# Sanity check, can we at least get good predictions with the training data?\n",
    "\n",
    "# Predict using the training data...\n",
    "y_predtrain = classifier.predict(X_train)\n",
    "y_predtrain"
   ]
  },
  {
   "cell_type": "code",
   "execution_count": 110,
   "metadata": {},
   "outputs": [
    {
     "name": "stdout",
     "output_type": "stream",
     "text": [
      "Predicted Model  Mountain  Road  Touring\n",
      "Actual Model                            \n",
      "Mountain             1594  2354       38\n",
      "Road                  629  5801       24\n",
      "Touring               480  1057      187\n"
     ]
    }
   ],
   "source": [
    "# Prediction of Bike Type using the training data...\n",
    "\n",
    "#Reverse factorize \n",
    "y_testr = np.vectorize(typedict.get)(y_train)\n",
    "y_predr = np.vectorize(typedict.get)(y_predtrain)\n",
    "\n",
    "# Making the Confusion Matrix\n",
    "print(pd.crosstab(y_testr, y_predr, rownames=['Actual Model'], colnames=['Predicted Model']))"
   ]
  },
  {
   "cell_type": "code",
   "execution_count": 113,
   "metadata": {},
   "outputs": [
    {
     "data": {
      "text/plain": [
       "array([1, 2, 0, ..., 1, 1, 1], dtype=int8)"
      ]
     },
     "execution_count": 113,
     "metadata": {},
     "output_type": "execute_result"
    }
   ],
   "source": [
    "# Do the test data set predictions...\n",
    "\n",
    "# Predict using the test data...\n",
    "y_predtest = classifier.predict(X_test)\n",
    "y_predtest"
   ]
  },
  {
   "cell_type": "code",
   "execution_count": 114,
   "metadata": {},
   "outputs": [
    {
     "data": {
      "text/plain": [
       "(3041,)"
      ]
     },
     "execution_count": 114,
     "metadata": {},
     "output_type": "execute_result"
    }
   ],
   "source": [
    "y_predtest.shape\n",
    "y_test.shape"
   ]
  },
  {
   "cell_type": "code",
   "execution_count": 115,
   "metadata": {},
   "outputs": [
    {
     "name": "stdout",
     "output_type": "stream",
     "text": [
      "Predicted Type  Mountain  Road  Touring\n",
      "Actual Type                            \n",
      "Mountain             257   690       37\n",
      "Road                 291  1299       24\n",
      "Touring              134   294       15\n"
     ]
    }
   ],
   "source": [
    "# Do the test data set predictions...\n",
    "\n",
    "#Reverse factorize \n",
    "y_testr = np.vectorize(typedict.get)(y_test)\n",
    "y_predr = np.vectorize(typedict.get)(y_predtest)\n",
    "\n",
    "# Making the Confusion Matrix\n",
    "\n",
    "print(pd.crosstab(y_testr, y_predr, rownames=['Actual Type'], colnames=['Predicted Type']))"
   ]
  },
  {
   "cell_type": "code",
   "execution_count": null,
   "metadata": {},
   "outputs": [],
   "source": [
    "print(y_predtest)\n",
    "print(y_pred)"
   ]
  },
  {
   "cell_type": "markdown",
   "metadata": {},
   "source": [
    "# Save the feature set data from future labs."
   ]
  },
  {
   "cell_type": "code",
   "execution_count": 119,
   "metadata": {},
   "outputs": [],
   "source": [
    "import pandas as pd\n",
    "\n",
    "df_features.to_csv(r'./BikeModelFeatures.csv', sep=',')"
   ]
  },
  {
   "cell_type": "code",
   "execution_count": 120,
   "metadata": {},
   "outputs": [],
   "source": [
    "import pickle\n",
    "\n",
    "f = open(\"typedict.pkl\",\"wb\")\n",
    "pickle.dump(typedict,f)\n",
    "f.close()"
   ]
  },
  {
   "cell_type": "markdown",
   "metadata": {},
   "source": [
    "## Save the trained model for later..."
   ]
  },
  {
   "cell_type": "code",
   "execution_count": 121,
   "metadata": {},
   "outputs": [
    {
     "data": {
      "text/plain": [
       "['biketypeclassifier.pkl']"
      ]
     },
     "execution_count": 121,
     "metadata": {},
     "output_type": "execute_result"
    }
   ],
   "source": [
    "joblib.dump(classifier, 'biketypeclassifier.pkl') "
   ]
  }
 ],
 "metadata": {
  "authors": [
   {
    "name": "savitam"
   }
  ],
  "kernelspec": {
   "display_name": "Python 3",
   "language": "python",
   "name": "python3"
  },
  "language_info": {
   "codemirror_mode": {
    "name": "ipython",
    "version": 3
   },
   "file_extension": ".py",
   "mimetype": "text/x-python",
   "name": "python",
   "nbconvert_exporter": "python",
   "pygments_lexer": "ipython3",
   "version": "3.6.4"
  }
 },
 "nbformat": 4,
 "nbformat_minor": 2
}
